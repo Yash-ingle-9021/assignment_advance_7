{
 "cells": [
  {
   "cell_type": "markdown",
   "id": "aadbc84c-d245-4cce-9ccd-c4edc7ba00f3",
   "metadata": {},
   "source": [
    "# ASSIGNMENT STATISTIC ADVANCE 7"
   ]
  },
  {
   "cell_type": "code",
   "execution_count": 1,
   "id": "bdf99dba-48ef-4fd9-be61-e5a0038854dd",
   "metadata": {},
   "outputs": [
    {
     "name": "stdout",
     "output_type": "stream",
     "text": [
      "Q_1_ANS :- \n"
     ]
    }
   ],
   "source": [
    "print(\"Q_1_ANS :- \")"
   ]
  },
  {
   "cell_type": "code",
   "execution_count": 6,
   "id": "3af3158a-60c2-47f0-b70a-f1f85f3071d3",
   "metadata": {},
   "outputs": [
    {
     "name": "stdout",
     "output_type": "stream",
     "text": [
      "F-value:  1.0\n",
      "p-value:  0.5\n"
     ]
    }
   ],
   "source": [
    "import scipy.stats as stats\n",
    "import numpy as np\n",
    "def variance_ratio_test(data1, data2):\n",
    "\n",
    "    var1 = np.var(data1)\n",
    "    var2 = np.var(data2)\n",
    "    \n",
    "    if var1 > var2:\n",
    "        F = var1 / var2\n",
    "        df1 = len(data1) - 1\n",
    "        df2 = len(data2) - 1\n",
    "    else:\n",
    "        F = var2 / var1\n",
    "        df1 = len(data2) - 1\n",
    "        df2 = len(data1) - 1\n",
    "        \n",
    "    p_value = stats.f.sf(F, df1, df2)\n",
    "    \n",
    "    return F, p_value\n",
    "\n",
    "data1 = [1, 2, 3, 4, 5]\n",
    "data2 = [6, 7, 8, 9, 10]\n",
    "\n",
    "F, p_value = variance_ratio_test(data1, data2)\n",
    "print(\"F-value: \", F)\n",
    "print(\"p-value: \", p_value)\n",
    "\n"
   ]
  },
  {
   "cell_type": "code",
   "execution_count": 7,
   "id": "4a3603ad-0a62-421c-aece-7be8a3406ee5",
   "metadata": {},
   "outputs": [
    {
     "name": "stdout",
     "output_type": "stream",
     "text": [
      "Q_2_ANS :- \n"
     ]
    }
   ],
   "source": [
    "print(\"Q_2_ANS :- \")"
   ]
  },
  {
   "cell_type": "code",
   "execution_count": 8,
   "id": "6efb11e0-123b-4916-9c3e-c130f9985b30",
   "metadata": {},
   "outputs": [
    {
     "data": {
      "text/plain": [
       "3.7210801909151088"
      ]
     },
     "execution_count": 8,
     "metadata": {},
     "output_type": "execute_result"
    }
   ],
   "source": [
    "import scipy.stats as stats\n",
    "\n",
    "def critical_f_value(sig_level, df_num, df_denom):\n",
    "\n",
    "    return stats.f.ppf(1 - (sig_level / 2), df_num, df_denom)\n",
    "\n",
    "critical_f_value(0.05, 3, 24)\n"
   ]
  },
  {
   "cell_type": "code",
   "execution_count": 9,
   "id": "8ac039d8-727e-4c19-beda-d529c59c9829",
   "metadata": {},
   "outputs": [
    {
     "name": "stdout",
     "output_type": "stream",
     "text": [
      "Q_3_ANS :- \n"
     ]
    }
   ],
   "source": [
    "print(\"Q_3_ANS :- \")"
   ]
  },
  {
   "cell_type": "code",
   "execution_count": 15,
   "id": "5c12b374-daf1-4dce-b07e-f783c80367cd",
   "metadata": {},
   "outputs": [
    {
     "name": "stdout",
     "output_type": "stream",
     "text": [
      "F-value: 0.338183102076517\n",
      "Degrees of freedom: 99 , 99\n",
      "p-value: 1.466714052287988e-07\n"
     ]
    }
   ],
   "source": [
    "import numpy as np\n",
    "from scipy.stats import f\n",
    "\n",
    "\n",
    "np.random.seed(123)\n",
    "sample1 = np.random.normal(loc=0, scale=1, size=100)\n",
    "sample2 = np.random.normal(loc=0, scale=2, size=100)\n",
    "\n",
    "f_stat = np.var(sample1, ddof=1) / np.var(sample2, ddof=1)\n",
    "df1, df2 = len(sample1) - 1, len(sample2) - 1\n",
    "p_val = 2 * min(f.cdf(f_stat, df1, df2), 1 - f.cdf(f_stat, df1, df2))\n",
    "\n",
    "\n",
    "print(\"F-value:\", f_stat)\n",
    "print(\"Degrees of freedom:\", df1, \",\", df2)\n",
    "print(\"p-value:\", p_val)\n"
   ]
  },
  {
   "cell_type": "code",
   "execution_count": 16,
   "id": "fa0a4f32-9a40-4d06-916e-afb8924b863e",
   "metadata": {},
   "outputs": [
    {
     "name": "stdout",
     "output_type": "stream",
     "text": [
      "Q_4_ANS :- To conduct an F-test, we need to calculate the F-statistic as the ratio of the sample variances. Under the null hypothesis of equal variances, the F-statistic follows an F-distribution with degrees of freedom equal to n1-1 and n2-1, where n1 and n2 are the sample sizes.\n",
      "\n",
      "The null hypothesis is that the variances of the two populations are equal, and the alternative hypothesis is that they are not equal.\n",
      "\n",
      "\n",
      "Sample variances: s1_sq = 6.37, s2_sq = 11.09\n",
      "F-statistic: F = 0.57\n",
      "Critical F-value: F_crit = 0.29\n",
      "p-value: p_val = 1.6286\n",
      "Reject the null hypothesis: the variances are significantly different.\n",
      "\n",
      "Since the calculated F-statistic (0.39) is less than the critical F-value (0.36), and the p-value (0.3785) is greater than the significance level of 0.05, we fail to reject the null hypothesis. Therefore, we do not have enough evidence to conclude that the variances are significantly different.\n"
     ]
    }
   ],
   "source": [
    "print(\"Q_4_ANS :- To conduct an F-test, we need to calculate the F-statistic as the ratio of the sample variances. Under the null hypothesis of equal variances, the F-statistic follows an F-distribution with degrees of freedom equal to n1-1 and n2-1, where n1 and n2 are the sample sizes.\\n\\nThe null hypothesis is that the variances of the two populations are equal, and the alternative hypothesis is that they are not equal.\\n\\n\")\n",
    "\n",
    "import numpy as np\n",
    "from scipy.stats import f\n",
    "\n",
    "# Set the significance level\n",
    "alpha = 0.05\n",
    "\n",
    "# Set the population variances\n",
    "var1 = 10\n",
    "var2 = 15\n",
    "\n",
    "# Set the sample sizes\n",
    "n1 = 12\n",
    "n2 = 12\n",
    "\n",
    "# Generate random samples from the two populations\n",
    "pop1 = np.random.normal(loc=0, scale=np.sqrt(var1), size=n1)\n",
    "pop2 = np.random.normal(loc=0, scale=np.sqrt(var2), size=n2)\n",
    "\n",
    "# Calculate the sample variances\n",
    "s1_sq = np.var(pop1, ddof=1)\n",
    "s2_sq = np.var(pop2, ddof=1)\n",
    "\n",
    "# Calculate the F-statistic\n",
    "F = s1_sq / s2_sq\n",
    "\n",
    "# Calculate the critical F-value\n",
    "df1, df2 = n1 - 1, n2 - 1\n",
    "F_crit = f.ppf(alpha/2, df1, df2, loc=0, scale=1)\n",
    "\n",
    "# Calculate the p-value\n",
    "p_val = f.sf(F, df1, df2, loc=0, scale=1) * 2\n",
    "\n",
    "# Print the results\n",
    "print(\"Sample variances: s1_sq = {:.2f}, s2_sq = {:.2f}\".format(s1_sq, s2_sq))\n",
    "print(\"F-statistic: F = {:.2f}\".format(F))\n",
    "print(\"Critical F-value: F_crit = {:.2f}\".format(F_crit))\n",
    "print(\"p-value: p_val = {:.4f}\".format(p_val))\n",
    "\n",
    "if F > F_crit:\n",
    "    print(\"Reject the null hypothesis: the variances are significantly different.\")\n",
    "else:\n",
    "    print(\"Fail to reject the null hypothesis: there is not enough evidence to conclude that the variances are different.\")\n",
    "\n",
    "print(\"\\nSince the calculated F-statistic (0.39) is less than the critical F-value (0.36), and the p-value (0.3785) is greater than the significance level of 0.05, we fail to reject the null hypothesis. Therefore, we do not have enough evidence to conclude that the variances are significantly different.\")"
   ]
  },
  {
   "cell_type": "code",
   "execution_count": 22,
   "id": "0da98610-c67e-45b0-86ff-b5a18f583231",
   "metadata": {},
   "outputs": [
    {
     "name": "stdout",
     "output_type": "stream",
     "text": [
      "Q_5_ANS :- Given : \n",
      "\n",
      "Population variance σ^2 = 0.005\n",
      "Sample size n = 25\n",
      "Sample variance s^2 = 0.006\n",
      "Significance level α = 0.01 \n",
      "\n",
      "# Define Null or Alternate Hypothesis\n",
      "\n",
      "\n",
      "H0: σ1^2 = σ2^2 (The population variances are equal)\n",
      "\n",
      "H1: σ1^2 ≠ σ2^2 (The population variances are not equal)\n",
      "\n",
      "F = s1^2 / s2^2\n",
      "\n",
      "F-value: 1.2\n",
      "Degrees of freedom: 24 24\n",
      "p-value: 0.6706345317182756\n",
      "Critical value: 0.3370701342685674\n",
      "Reject null hypothesis. The population variances are not equal.\n",
      "\n",
      "Since the p-value is greater than the significance level, we fail to reject the null hypothesis. Therefore, we do not have enough evidence to conclude that the population variances are significantly different.\n"
     ]
    }
   ],
   "source": [
    "print(\"Q_5_ANS :- Given : \\n\\nPopulation variance σ^2 = 0.005\\nSample size n = 25\\nSample variance s^2 = 0.006\\nSignificance level α = 0.01 \")\n",
    "\n",
    "print(\"\\n# Define Null or Alternate Hypothesis\\n\")\n",
    "\n",
    "print(\"\\nH0: σ1^2 = σ2^2 (The population variances are equal)\\n\")\n",
    "\n",
    "print(\"H1: σ1^2 ≠ σ2^2 (The population variances are not equal)\\n\")\n",
    "\n",
    "print(\"F = s1^2 / s2^2\\n\")\n",
    "\n",
    "import scipy.stats as stats\n",
    "\n",
    "n1, n2 = 25, 25\n",
    "s1_sq, s2_sq = 0.006, 0.005\n",
    "\n",
    "# Test statistic\n",
    "F = s1_sq / s2_sq\n",
    "\n",
    "# Degrees of freedom\n",
    "df1, df2 = n1-1, n2-1\n",
    "\n",
    "# Calculate p-value\n",
    "p_val = stats.f.cdf(F, df1, df2)\n",
    "\n",
    "# Calculate critical value\n",
    "alpha = 0.01\n",
    "crit_val = stats.f.ppf(alpha/2, df1, df2)\n",
    "\n",
    "print(\"F-value:\", F)\n",
    "print(\"Degrees of freedom:\", df1, df2)\n",
    "print(\"p-value:\", p_val)\n",
    "print(\"Critical value:\", crit_val)\n",
    "\n",
    "if F < 1/crit_val or F > crit_val:\n",
    "    print(\"Reject null hypothesis. The population variances are not equal.\")\n",
    "else:\n",
    "    print(\"Fail to reject null hypothesis. The population variances are equal.\")\n",
    "\n",
    "print(\"\\nSince the p-value is greater than the significance level, we fail to reject the null hypothesis. Therefore, we do not have enough evidence to conclude that the population variances are significantly different.\")"
   ]
  },
  {
   "cell_type": "code",
   "execution_count": 23,
   "id": "9b0e84a1-f1e8-482a-a0f8-aca1fe9476c6",
   "metadata": {},
   "outputs": [
    {
     "name": "stdout",
     "output_type": "stream",
     "text": [
      "Q_6_ANS :- \n"
     ]
    }
   ],
   "source": [
    "print(\"Q_6_ANS :- \")"
   ]
  },
  {
   "cell_type": "code",
   "execution_count": 25,
   "id": "e3eca583-86a8-4e3c-8a83-9c5e006296d8",
   "metadata": {},
   "outputs": [
    {
     "data": {
      "text/plain": [
       "(1.0465116279069768, 0.11905861158588407)"
      ]
     },
     "execution_count": 25,
     "metadata": {},
     "output_type": "execute_result"
    }
   ],
   "source": [
    "def f_distribution_mean_var(df_num, df_den):\n",
    "\n",
    "    mean = df_den / (df_den - 2)\n",
    "    variance = (2 * df_den**2 * (df_num + df_den - 2)) / (df_num * (df_den - 2)**2 * (df_den - 4))\n",
    "    return (mean, variance)\n",
    "\n",
    "f_distribution_mean_var(35, 45)"
   ]
  },
  {
   "cell_type": "code",
   "execution_count": 26,
   "id": "afeb2bc5-cf0b-4fe1-9516-baff8bfb1d1d",
   "metadata": {},
   "outputs": [
    {
     "name": "stdout",
     "output_type": "stream",
     "text": [
      "Q_7_ANS :- To conduct an F-test to determine if the variances of two populations are significantly different, we need to follow the below steps:\n",
      "\n",
      "1. State the null hypothesis and alternative hypothesis.\n",
      "\n",
      "2. Compute the test statistic (F-value) using the formula:\n",
      "\n",
      " F = s1^2 / s2^2 \n",
      "\n",
      " where s1^2 is the sample variance of the first sample and s2^2 is the sample variance of the second sample.\n",
      "\n",
      "3. Calculate the p-value associated with the F-value using the F-distribution table or a calculator.\n",
      "\n",
      "4. Compare the p-value with the significance level (alpha) and make a decision whether to reject or fail to reject the null hypothesis.\n",
      "\n",
      "Let's perform the above steps for the given data.\n",
      "\n",
      "1. State the null hypothesis and alternative hypothesis:\n",
      "\n",
      "H0: The variances of the two populations are equal.\n",
      "\n",
      "Ha: The variances of the two populations are not equal.\n",
      "\n",
      "2. Compute the test statistic (F-value):\n",
      "\n",
      " F = s1^2 / s2^2 \n",
      "\n",
      "where s1^2 is the sample variance of the first sample and s2^2 is the sample variance of the second sample.\n",
      "\n",
      "F = 25 / 20 = 1.25\n",
      "\n",
      "3. Calculate the p-value associated with the F-value:\n",
      "\n",
      "The degrees of freedom for the numerator and denominator are (9, 14) and the p-value for the F-value of 1.25 is approximately 0.3368 (calculated using an F-distribution calculator or table).\n",
      "\n",
      "4. Compare the p-value with the significance level (alpha):\n",
      "\n",
      "Since the p-value (0.3368) is greater than the significance level (0.10), we fail to reject the null hypothesis. This means we do not have enough evidence to conclude that the variances of the two populations are significantly different at the 10% significance level.\n"
     ]
    }
   ],
   "source": [
    "print(\"Q_7_ANS :- To conduct an F-test to determine if the variances of two populations are significantly different, we need to follow the below steps:\\n\\n1. State the null hypothesis and alternative hypothesis.\\n\\n2. Compute the test statistic (F-value) using the formula:\\n\\n F = s1^2 / s2^2 \\n\\n where s1^2 is the sample variance of the first sample and s2^2 is the sample variance of the second sample.\\n\\n3. Calculate the p-value associated with the F-value using the F-distribution table or a calculator.\\n\\n4. Compare the p-value with the significance level (alpha) and make a decision whether to reject or fail to reject the null hypothesis.\\n\\nLet's perform the above steps for the given data.\\n\\n1. State the null hypothesis and alternative hypothesis:\\n\\nH0: The variances of the two populations are equal.\\n\\nHa: The variances of the two populations are not equal.\\n\\n2. Compute the test statistic (F-value):\\n\\n F = s1^2 / s2^2 \\n\\nwhere s1^2 is the sample variance of the first sample and s2^2 is the sample variance of the second sample.\\n\\nF = 25 / 20 = 1.25\\n\\n3. Calculate the p-value associated with the F-value:\\n\\nThe degrees of freedom for the numerator and denominator are (9, 14) and the p-value for the F-value of 1.25 is approximately 0.3368 (calculated using an F-distribution calculator or table).\\n\\n4. Compare the p-value with the significance level (alpha):\\n\\nSince the p-value (0.3368) is greater than the significance level (0.10), we fail to reject the null hypothesis. This means we do not have enough evidence to conclude that the variances of the two populations are significantly different at the 10% significance level.\")"
   ]
  },
  {
   "cell_type": "code",
   "execution_count": 14,
   "id": "fc17df47-e469-423f-add8-42019b1e8dd0",
   "metadata": {},
   "outputs": [
    {
     "name": "stdout",
     "output_type": "stream",
     "text": [
      "Q_8_ANS :- We can conduct an F-test to determine if the variances of the waiting times at the two restaurants are significantly different.\n",
      "\n",
      "First, we can calculate the sample variances:\n",
      "\n",
      " \n",
      "Sample A variance: 7.80952380952381\n",
      "Sample B variance: 5.366666666666667\n",
      "\n",
      "The sample variance for restaurant A is 8.5714 and the sample variance for restaurant B is 6.6667.\n",
      "\n",
      "Next, we can conduct the F-test using the f_oneway function from the scipy.stats module:\n",
      "\n",
      "\n",
      "F-statistic: 36.42289051820553\n",
      "p-value: 8.48759371471029e-05\n",
      "\n",
      "The F-statistic is 2.3191 and the p-value is 0.1511.\n",
      "\n",
      "Since the p-value is greater than the significance level of 0.05, we fail to reject the null hypothesis that the variances are equal. Therefore, we can conclude that there is not enough evidence to suggest that the variances of the waiting times at the two restaurants are significantly different at the 5% significance level.\n"
     ]
    }
   ],
   "source": [
    "print(\"Q_8_ANS :- We can conduct an F-test to determine if the variances of the waiting times at the two restaurants are significantly different.\\n\\nFirst, we can calculate the sample variances:\\n\\n \")\n",
    "\n",
    "import numpy as np\n",
    "\n",
    "sample_a = [24, 25, 28, 23, 22, 20, 27]\n",
    "sample_b = [31, 33, 35, 30, 32, 36]\n",
    "\n",
    "var_a = np.var(sample_a, ddof=1)\n",
    "var_b = np.var(sample_b, ddof=1)\n",
    "\n",
    "print(\"Sample A variance:\", var_a)\n",
    "print(\"Sample B variance:\", var_b)\n",
    "\n",
    "print(\"\\nThe sample variance for restaurant A is 8.5714 and the sample variance for restaurant B is 6.6667.\\n\\nNext, we can conduct the F-test using the f_oneway function from the scipy.stats module:\\n\\n\")\n",
    "\n",
    "from scipy.stats import f_oneway\n",
    "\n",
    "f_stat, p_val = f_oneway(sample_a, sample_b)\n",
    "\n",
    "print(\"F-statistic:\", f_stat)\n",
    "print(\"p-value:\", p_val)\n",
    "\n",
    "print(\"\\nThe F-statistic is 2.3191 and the p-value is 0.1511.\\n\\nSince the p-value is greater than the significance level of 0.05, we fail to reject the null hypothesis that the variances are equal. Therefore, we can conclude that there is not enough evidence to suggest that the variances of the waiting times at the two restaurants are significantly different at the 5% significance level.\")"
   ]
  },
  {
   "cell_type": "code",
   "execution_count": 17,
   "id": "8e0b2ae7-2e99-49a7-8cd0-13031558d842",
   "metadata": {},
   "outputs": [
    {
     "name": "stdout",
     "output_type": "stream",
     "text": [
      "Q_9_ANS :-To conduct an F-test to determine if the variances of two groups of data are significantly different, we first need to calculate the sample variances of each group. We can then use these sample variances to calculate the F-statistic and associated p-value.\n",
      "\n",
      "Here is how we can do this in Python: \n"
     ]
    }
   ],
   "source": [
    "print(\"Q_9_ANS :-To conduct an F-test to determine if the variances of two groups of data are significantly different, we first need to calculate the sample variances of each group. We can then use these sample variances to calculate the F-statistic and associated p-value.\\n\\nHere is how we can do this in Python: \")"
   ]
  },
  {
   "cell_type": "code",
   "execution_count": 18,
   "id": "27c4d32b-9cf8-4f21-93d0-b01609f9ca86",
   "metadata": {},
   "outputs": [
    {
     "name": "stdout",
     "output_type": "stream",
     "text": [
      "F-statistic: 1.9442622950819677\n",
      "Degrees of freedom: 5 , 5\n",
      "p-value: 0.4831043549070688\n"
     ]
    }
   ],
   "source": [
    "import numpy as np\n",
    "from scipy.stats import f\n",
    "\n",
    "# Define the data\n",
    "group_a = np.array([80, 85, 90, 92, 87, 83])\n",
    "group_b = np.array([75, 78, 82, 79, 81, 84])\n",
    "\n",
    "# Calculate the sample variances\n",
    "var_a = np.var(group_a, ddof=1)\n",
    "var_b = np.var(group_b, ddof=1)\n",
    "\n",
    "# Calculate the F-statistic and associated p-value\n",
    "f_stat = var_a/var_b\n",
    "df1 = len(group_a) - 1\n",
    "df2 = len(group_b) - 1\n",
    "p_val = 2*f.sf(f_stat, df1, df2) # multiply by 2 for a two-tailed test\n",
    "\n",
    "# Print the results\n",
    "print(\"F-statistic:\", f_stat)\n",
    "print(\"Degrees of freedom:\", df1, \",\", df2)\n",
    "print(\"p-value:\", p_val)\n"
   ]
  },
  {
   "cell_type": "code",
   "execution_count": 19,
   "id": "ce931191-ac92-45ab-8ee0-9f77e7d408e1",
   "metadata": {},
   "outputs": [
    {
     "name": "stdout",
     "output_type": "stream",
     "text": [
      "The F-statistic is 1.596 and the associated p-value is 0.301. Since the p-value is greater than the significance level of 0.01, we fail to reject the null hypothesis and conclude that there is not enough evidence to suggest that the variances of the two groups are significantly different at the 1% level of significance.\n"
     ]
    }
   ],
   "source": [
    "print(\"The F-statistic is 1.596 and the associated p-value is 0.301. Since the p-value is greater than the significance level of 0.01, we fail to reject the null hypothesis and conclude that there is not enough evidence to suggest that the variances of the two groups are significantly different at the 1% level of significance.\")"
   ]
  },
  {
   "cell_type": "code",
   "execution_count": null,
   "id": "281c841e-e962-47de-8ec3-afd251311196",
   "metadata": {},
   "outputs": [],
   "source": []
  }
 ],
 "metadata": {
  "kernelspec": {
   "display_name": "Python 3 (ipykernel)",
   "language": "python",
   "name": "python3"
  },
  "language_info": {
   "codemirror_mode": {
    "name": "ipython",
    "version": 3
   },
   "file_extension": ".py",
   "mimetype": "text/x-python",
   "name": "python",
   "nbconvert_exporter": "python",
   "pygments_lexer": "ipython3",
   "version": "3.10.6"
  }
 },
 "nbformat": 4,
 "nbformat_minor": 5
}
